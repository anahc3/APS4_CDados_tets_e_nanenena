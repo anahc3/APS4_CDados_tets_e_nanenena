{
 "cells": [
  {
   "cell_type": "code",
   "execution_count": 2,
   "metadata": {},
   "outputs": [],
   "source": [
    "import scipy as stats\n",
    "import pandas as pd\n",
    "import matplotlib as plt"
   ]
  },
  {
   "cell_type": "code",
   "execution_count": 23,
   "metadata": {},
   "outputs": [],
   "source": [
    "# Criação dos DFs \n",
    "magic_kingdom = pd.read_csv('Dados/mk.csv', sep=';')\n",
    "universal_studios = pd.read_csv('Dados/us.csv', sep=';')"
   ]
  },
  {
   "cell_type": "code",
   "execution_count": 19,
   "metadata": {},
   "outputs": [
    {
     "name": "stderr",
     "output_type": "stream",
     "text": [
      "C:\\Users\\anaca\\AppData\\Local\\Temp\\ipykernel_6980\\3502461063.py:5: SettingWithCopyWarning: \n",
      "A value is trying to be set on a copy of a slice from a DataFrame.\n",
      "Try using .loc[row_indexer,col_indexer] = value instead\n",
      "\n",
      "See the caveats in the documentation: https://pandas.pydata.org/pandas-docs/stable/user_guide/indexing.html#returning-a-view-versus-a-copy\n",
      "  df_filtrado_mk['Qtd (mi)'] = pd.to_numeric(df_filtrado_mk['Qtd (mi)'].str.replace(',', '.'))\n"
     ]
    }
   ],
   "source": [
    "# Achando o lambda do Magic Kingdom\n",
    "df_filtrado_mk = magic_kingdom[(magic_kingdom['Ano'] == 2017) | (magic_kingdom['Ano'] == 2018) | (magic_kingdom['Ano'] == 2019)]\n",
    "\n",
    "df_filtrado_mk['Qtd (mi)'] = pd.to_numeric(df_filtrado_mk['Qtd (mi)'].str.replace(',', '.'))\n",
    "\n",
    "lambda_mk = df_filtrado_mk['Qtd (mi)'].mean()"
   ]
  },
  {
   "cell_type": "code",
   "execution_count": 22,
   "metadata": {},
   "outputs": [
    {
     "name": "stderr",
     "output_type": "stream",
     "text": [
      "C:\\Users\\anaca\\AppData\\Local\\Temp\\ipykernel_6980\\3329661728.py:5: SettingWithCopyWarning: \n",
      "A value is trying to be set on a copy of a slice from a DataFrame.\n",
      "Try using .loc[row_indexer,col_indexer] = value instead\n",
      "\n",
      "See the caveats in the documentation: https://pandas.pydata.org/pandas-docs/stable/user_guide/indexing.html#returning-a-view-versus-a-copy\n",
      "  df_filtrado_us['Qtd (mi)'] = pd.to_numeric(df_filtrado_us['Qtd (mi)'].str.replace(',', '.'))\n"
     ]
    }
   ],
   "source": [
    "# Achando o lambda do Universal Studios\n",
    "df_filtrado_us = universal_studios[(universal_studios['Ano'] == 2017) | (universal_studios['Ano'] == 2018) | (universal_studios['Ano'] == 2019)]\n",
    "\n",
    "df_filtrado_us['Qtd (mi)'] = pd.to_numeric(df_filtrado_us['Qtd (mi)'].str.replace(',', '.'))\n",
    "\n",
    "lambda_us = df_filtrado_us['Qtd (mi)'].mean()"
   ]
  },
  {
   "cell_type": "code",
   "execution_count": null,
   "metadata": {},
   "outputs": [],
   "source": [
    "# Criando a distribuição de Poisson para o Magic Kingdom\n",
    "distribuicao_mk = stats.poisson.rvs(mu=lambda_mk, size=10000)"
   ]
  }
 ],
 "metadata": {
  "kernelspec": {
   "display_name": ".venv",
   "language": "python",
   "name": "python3"
  },
  "language_info": {
   "codemirror_mode": {
    "name": "ipython",
    "version": 3
   },
   "file_extension": ".py",
   "mimetype": "text/x-python",
   "name": "python",
   "nbconvert_exporter": "python",
   "pygments_lexer": "ipython3",
   "version": "3.11.4"
  }
 },
 "nbformat": 4,
 "nbformat_minor": 2
}
